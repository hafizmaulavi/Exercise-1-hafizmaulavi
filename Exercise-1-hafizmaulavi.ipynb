{
 "cells": [
  {
   "cell_type": "code",
   "execution_count": 1,
   "id": "aab655c3-de42-45df-bbd4-649b1df593f6",
   "metadata": {},
   "outputs": [],
   "source": [
    "ice_cream_rating = 10\n",
    "sleeping_rating = 9.5"
   ]
  },
  {
   "cell_type": "code",
   "execution_count": 3,
   "id": "a240e2cb-b533-41aa-8657-a2264474fcee",
   "metadata": {},
   "outputs": [],
   "source": [
    "first_name= 'Hafiz'\n",
    "last_name= 'Maulavi'\n",
    "my_name= first_name, last_name"
   ]
  },
  {
   "cell_type": "code",
   "execution_count": 4,
   "id": "02f29fb4-182e-46ce-a55b-1f8d025ab568",
   "metadata": {},
   "outputs": [],
   "source": [
    "happiness_rating= (ice_cream_rating + sleeping_rating) /2"
   ]
  },
  {
   "cell_type": "markdown",
   "id": "beca2b30-214a-43ea-872e-57d25007a9ac",
   "metadata": {},
   "source": [
    "Type of `ice_cream_rating` will be `int`"
   ]
  },
  {
   "cell_type": "code",
   "execution_count": 5,
   "id": "f8374018-2d02-44ec-9446-992c62af102c",
   "metadata": {},
   "outputs": [
    {
     "data": {
      "text/plain": [
       "int"
      ]
     },
     "execution_count": 5,
     "metadata": {},
     "output_type": "execute_result"
    }
   ],
   "source": [
    "type(ice_cream_rating)"
   ]
  },
  {
   "cell_type": "markdown",
   "id": "d4b5189e-5bee-4a18-b02f-226a45189df5",
   "metadata": {},
   "source": [
    "Type of `first_name` would be `str`"
   ]
  },
  {
   "cell_type": "code",
   "execution_count": 6,
   "id": "7b6c3677-2385-4e2a-b80e-4377350c5b5f",
   "metadata": {},
   "outputs": [
    {
     "data": {
      "text/plain": [
       "str"
      ]
     },
     "execution_count": 6,
     "metadata": {},
     "output_type": "execute_result"
    }
   ],
   "source": [
    "type(first_name)"
   ]
  },
  {
   "cell_type": "markdown",
   "id": "3324dd33-2cca-42de-88b8-9d09b87eff1a",
   "metadata": {},
   "source": [
    "Type of `happiness_rating` would be `float`"
   ]
  },
  {
   "cell_type": "code",
   "execution_count": 7,
   "id": "4f7a7566-cdad-4232-a20b-907b1ee69ed5",
   "metadata": {},
   "outputs": [
    {
     "data": {
      "text/plain": [
       "float"
      ]
     },
     "execution_count": 7,
     "metadata": {},
     "output_type": "execute_result"
    }
   ],
   "source": [
    "type(happiness_rating)"
   ]
  },
  {
   "cell_type": "markdown",
   "id": "4260a388-d3fe-43b0-985c-7ef26ab2f9fa",
   "metadata": {},
   "source": [
    "and yeah, it is as fas as I expected!, Nice!"
   ]
  },
  {
   "cell_type": "markdown",
   "id": "1c1dbfe2-18e8-4d4f-826e-d22971a11c19",
   "metadata": {},
   "source": [
    "Next problem: Generate each output on the screen!\n",
    "\n",
    "My name is Dave and I give eating ice cream a score of 9 out of 10!\n",
    "\n",
    "I am Dave Whipp and my sleeping enjoyment rating is 8 / 10\n",
    "\r\n",
    "Based on the factors above, my happiness rating is 8.5 out of 10, or 85.0 \r\n",
    "\n"
   ]
  },
  {
   "cell_type": "code",
   "execution_count": 17,
   "id": "51612205-7cd3-46e7-ac79-5864721acac2",
   "metadata": {},
   "outputs": [
    {
     "name": "stdout",
     "output_type": "stream",
     "text": [
      "My name is Hafiz and I give eating ice cream a score of 10 out of 10!\n",
      "I am  Hafiz Maulavi and my sleeping enjoyment rating is  9.5 / 10\n",
      "Based on the factors above, my happiness rating is  9.75 out of 10, or  97.5\n"
     ]
    }
   ],
   "source": [
    "print('My name is', first_name, 'and I give eating ice cream a score of', ice_cream_rating, 'out of 10!')\n",
    "print('I am ', first_name, last_name, 'and my sleeping enjoyment rating is ', sleeping_rating, '/ 10')\n",
    "print('Based on the factors above, my happiness rating is ', happiness_rating, 'out of 10, or ', happiness_rating*10)"
   ]
  },
  {
   "cell_type": "code",
   "execution_count": null,
   "id": "1d1bb67f-cf3c-4857-a145-cb743be7bc39",
   "metadata": {},
   "outputs": [],
   "source": []
  }
 ],
 "metadata": {
  "kernelspec": {
   "display_name": "Python 3 (ipykernel)",
   "language": "python",
   "name": "python3"
  },
  "language_info": {
   "codemirror_mode": {
    "name": "ipython",
    "version": 3
   },
   "file_extension": ".py",
   "mimetype": "text/x-python",
   "name": "python",
   "nbconvert_exporter": "python",
   "pygments_lexer": "ipython3",
   "version": "3.11.6"
  }
 },
 "nbformat": 4,
 "nbformat_minor": 5
}
